{
 "cells": [
  {
   "cell_type": "code",
   "execution_count": 64,
   "id": "6014cf1c",
   "metadata": {},
   "outputs": [],
   "source": [
    "import praw\n",
    "import pandas as pd\n",
    "import time\n",
    "from datetime import datetime, timezone\n"
   ]
  },
  {
   "cell_type": "code",
   "execution_count": null,
   "id": "33e002fd",
   "metadata": {},
   "outputs": [],
   "source": [
    "#initialize Reddit instance\n",
    "reddit = praw.Reddit(client_id=\"kN6wpKi6buf6GQUyH6EuZw\",\n",
    "                     client_secret=\"WbK11cNfVdk6gvswQC-8cZDPxqYLKw\",\n",
    "                     user_agent=\"python:myredditapp:v1.0 (by u/NewIntroduction1834)\")"
   ]
  },
  {
   "cell_type": "code",
   "execution_count": null,
   "id": "4313ac4f",
   "metadata": {},
   "outputs": [
    {
     "name": "stdout",
     "output_type": "stream",
     "text": [
      "3. Processing: Bybit Hit by Crypto’s Worst Hack With Almost $1.5 Billion Stolen | 2025-02-21 19:35:44 | Score: 198\n",
      "\n",
      "✅ Done! Saved 21 comments from threads with 'trump coin' to 'subreddit_keyword_comments_filtered.csv'\n"
     ]
    },
    {
     "name": "stderr",
     "output_type": "stream",
     "text": [
      "C:\\Users\\User\\AppData\\Local\\Temp\\ipykernel_1296\\964921405.py:33: DeprecationWarning: datetime.datetime.utcfromtimestamp() is deprecated and scheduled for removal in a future version. Use timezone-aware objects to represent datetimes in UTC: datetime.datetime.fromtimestamp(timestamp, datetime.UTC).\n",
      "  comment_time_utc = datetime.utcfromtimestamp(comment.created_utc).strftime('%Y-%m-%d %H:%M:%S')\n"
     ]
    }
   ],
   "source": [
    "subreddit_name = \"news\"\n",
    "search_term = \"trump coin\"\n",
    "start_date = datetime(2025, 1, 17, tzinfo=timezone.utc)\n",
    "end_date = datetime(2025, 2, 28, tzinfo=timezone.utc)\n",
    "post_limit = None  \n",
    "\n",
    "#convert dates to Unix timestamps\n",
    "start_timestamp = int(start_date.timestamp())\n",
    "end_timestamp = int(end_date.timestamp())\n",
    "\n",
    "#search posts\n",
    "subreddit = reddit.subreddit(subreddit_name)\n",
    "posts = subreddit.search(search_term, limit=post_limit)\n",
    "\n",
    "#collect all comments in a list\n",
    "all_comments = []\n",
    "\n",
    "for idx, post in enumerate(posts, start=1):\n",
    "    post_datetime = datetime.fromtimestamp(post.created_utc, tz=timezone.utc)\n",
    "    if post_datetime < start_date or post_datetime > end_date:\n",
    "        continue\n",
    "\n",
    "    thread_title = post.title\n",
    "    thread_url = f\"https://www.reddit.com{post.permalink}\"\n",
    "    thread_time_utc = post_datetime.strftime('%Y-%m-%d %H:%M:%S')\n",
    "    thread_score = post.score\n",
    "\n",
    "    print(f\"{idx}. Processing: {thread_title} | {thread_time_utc} | Score: {thread_score}\")\n",
    "\n",
    "    post.comments.replace_more(limit=100)\n",
    "    for comment in post.comments.list():\n",
    "        comment_time_utc = datetime.utcfromtimestamp(comment.created_utc).strftime('%Y-%m-%d %H:%M:%S')\n",
    "        comment_text = comment.body.replace('\\n', ' ').strip()\n",
    "        comment_score = comment.score\n",
    "\n",
    "        all_comments.append({\n",
    "            \"thread_title\": thread_title,\n",
    "            \"thread_url\": thread_url,\n",
    "            \"thread_time_utc\": thread_time_utc,\n",
    "            \"thread_score\": thread_score,\n",
    "            \"comment_time_utc\": comment_time_utc,\n",
    "            \"comment_score\": comment_score,\n",
    "            \"comment_text\": comment_text\n",
    "        })\n",
    "\n",
    "    #add delay every 100 threads\n",
    "    if idx % 100 == 0:\n",
    "        print(\"Sleeping for 3 seconds to respect Reddit API limits...\")\n",
    "        time.sleep(3)\n",
    "\n",
    "#save results to CSV\n",
    "df = pd.DataFrame(all_comments)\n",
    "df = df.sort_values(by=\"comment_time_utc\")\n",
    "df.to_csv(f\"{subreddit_name}_{search_term}.csv\", index=False, encoding=\"utf-8\")\n",
    "\n",
    "print(f\"\\n Done! Saved {len(df)} comments from threads with '{search_term}' to '{subreddit_name}_{search_term}.csv'\")\n"
   ]
  },
  {
   "cell_type": "code",
   "execution_count": null,
   "id": "1318d9c6",
   "metadata": {},
   "outputs": [
    {
     "name": "stdout",
     "output_type": "stream",
     "text": [
      "CSV files merged and saved as 'merged_output.csv'\n"
     ]
    }
   ],
   "source": [
    "#merging CSV files\n",
    "\n",
    "import pandas as pd\n",
    "import os\n",
    "\n",
    "folder_path = 'Reddit_Data/melania'\n",
    "\n",
    "#list all CSV files in the folder\n",
    "csv_files = [f for f in os.listdir(folder_path) if f.endswith('.csv')]\n",
    "\n",
    "#read and merge all CSV files into one DataFrame\n",
    "df_list = []\n",
    "for file in csv_files:\n",
    "    file_path = os.path.join(folder_path, file)\n",
    "    df = pd.read_csv(file_path)\n",
    "    df_list.append(df)\n",
    "\n",
    "#concatenate all DataFrames in the list\n",
    "merged_df = pd.concat(df_list, ignore_index=True)\n",
    "\n",
    "#save the merged DataFrame to a new CSV file\n",
    "merged_df.to_csv(f'{folder_path}_merged.csv', index=False, encoding='utf-8')\n",
    "\n",
    "print(\"CSV files merged and saved as 'merged_output.csv'\")\n"
   ]
  }
 ],
 "metadata": {
  "kernelspec": {
   "display_name": ".venv",
   "language": "python",
   "name": "python3"
  },
  "language_info": {
   "codemirror_mode": {
    "name": "ipython",
    "version": 3
   },
   "file_extension": ".py",
   "mimetype": "text/x-python",
   "name": "python",
   "nbconvert_exporter": "python",
   "pygments_lexer": "ipython3",
   "version": "3.13.2"
  }
 },
 "nbformat": 4,
 "nbformat_minor": 5
}
